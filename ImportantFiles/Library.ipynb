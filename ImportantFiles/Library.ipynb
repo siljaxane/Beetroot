{
 "cells": [
  {
   "cell_type": "code",
   "execution_count": null,
   "metadata": {},
   "outputs": [],
   "source": [
    "#Important lesson with Sergey was lesson 8 where he goes through rules and examples for lessons 1-8.\n",
    "\n",
    "# Terms (terminiology) and functionalities I need to master:\n",
    "\n",
    "1. Boolean\n",
    "2  Ad-hoc\n",
    "3. HTLM\n",
    "4. HTTP\n",
    "5. IDLE\n",
    "6: API\n",
    "7. List\n",
    "    #List methods\n",
    "    7.1 Append\n",
    "    7.2 Extend\n",
    "    7.3 pop\n",
    "    7.4 remove\n",
    "    7.5 insert\n",
    "8. Tuples\n",
    "9. Set(s)\n",
    "    9.1 Range\n",
    "10. slizing\n",
    "11. del\n",
    "12. sort\n",
    "13. reverse\n",
    "14. while loop\n",
    "15. if, elif, else\n",
    "16. Modulo %\n",
    "17. !=\n",
    "18. +=\n",
    "19. function buddy\n",
    "20. position argument\n",
    "21. \"For\" (for in loop) argument\n",
    "22. List comprehensions\n",
    "23. Function return value\n",
    "    23.1 Return method\n",
    "24. Arbitories (arbitory)\n",
    "    24.1 *Args\n",
    "    24.2 **Kwargs\n",
    "25. key-value-pairs\n",
    "26. get method (dicts)\n",
    "27. pop (dicts)\n",
    "28. None Value\n",
    "29. enumerate\n",
    "30. innumerate\n",
    "31. Input VS output\n",
    "32. Sequences\n",
    "33. Items, Objects, elements\n",
    "34. ==\n",
    "35. Semantic errors\n",
    "36. Syntax errors\n",
    "37. Exceptions\n",
    "38. Arithmetic errors\n",
    "39. Iterable object\n",
    "40. __iter__\n",
    "41. \"items\" function\n",
    "42. sum()\n",
    "43. str.capitalize\n",
    "44. str.casefold\n",
    "45. str.format\n",
    "46. Parenthesised mapping key\n",
    "47. Files \n",
    "    47.1 \"r\"\n",
    "    47.2 \"w\"\n",
    "    47.3 \"a\"\n",
    "    47.4 \"r+\"\n",
    "    47.5 \"b\"\n",
    "48. f.read()\n",
    "49. f.write()\n",
    "50. offset\n",
    "51. whence\n",
    "52. f.seek >> in files \n",
    "53. Serialization\n",
    "54. int()\n",
    "55. JSON >> what does it stand for and what does it represent?\n",
    "56. Data parsing\n",
    "57. json.dump()\n",
    "58. json.load()\n",
    "59. Class deinition\n",
    "60. Class object\n",
    "61. Attribute references\n",
    "62. Instantiation\n",
    "63. __del__\n",
    "64. __str__\n",
    "65. \"type\" in operating Classes \n",
    "66. Baseclass\n",
    "67. subclass\n",
    "68. inheritence\n",
    "69. Dunder Method \n",
    "70. super. \n",
    "71. __repr__\n",
    "72. random module \n",
    "    72.1 random module functions \n",
    "73. Syntax \n",
    "74. \n",
    "\n",
    "\n",
    "\n",
    "\n",
    "# Keywords:\n"
   ]
  },
  {
   "cell_type": "code",
   "execution_count": null,
   "metadata": {},
   "outputs": [],
   "source": [
    "DICTS"
   ]
  },
  {
   "cell_type": "code",
   "execution_count": null,
   "metadata": {},
   "outputs": [],
   "source": [
    "# Dictonary (Dicts) >> (can only take lists and tuples) + (dict is built-in-functions)\n",
    "\n",
    "space = {\"Planet\": \"Mars\", \"Star\": \"Sun\", \"Abyss\": \"black matter\"}\n",
    "\n",
    "    # Or you can list your dictonary this way (preferred):\n",
    "\n",
    "    #space = {\n",
    "        #\"Planet\": \"Mars\",\n",
    "        #\"Star\": \"Sun\",\n",
    "        #\"Abyss\": \"black matter\"\n",
    "    #}\n",
    "\n",
    "print(space[\"Planet\"])"
   ]
  },
  {
   "cell_type": "code",
   "execution_count": null,
   "metadata": {},
   "outputs": [],
   "source": [
    "FORMAT"
   ]
  },
  {
   "cell_type": "code",
   "execution_count": null,
   "metadata": {},
   "outputs": [],
   "source": [
    "# Formatting / String formatting\n",
    "\n",
    "name = \"Silja\"\n",
    "print(f\"My name is {}.\")\n",
    "\n",
    "    # or, \n",
    "\n",
    "name = \"Superman\"\n",
    "Superpower = \"flying\"\n",
    "Enemy = \"Joker\"\n",
    "res = f\"Superhero name is {name}, his superpower is - {Superpower}, and his enemy is - {Enemy}\"\n",
    "print(res)\n",
    "\n",
    "    # or,\n",
    "\n",
    "s = \"Superhero is {}, his superpower is {}\"\n",
    "print(s.format(name, Superpower))\n"
   ]
  },
  {
   "cell_type": "code",
   "execution_count": null,
   "metadata": {},
   "outputs": [],
   "source": [
    "FUNCTIONS "
   ]
  },
  {
   "cell_type": "code",
   "execution_count": null,
   "metadata": {},
   "outputs": [],
   "source": [
    "# Functions (function by definition / user defined)\n",
    "\n",
    "def Space(Planet, Star, Abyss): \n",
    "    print(\"Things about space:\")\n",
    "\n",
    "things_in_space = (\"Mars\", \"Sun\", \"Darkness\")\n",
    "\n",
    "print(\"Things in space \" + Planet + \" \" + Star, \" \" + Abyss)\n",
    "\n",
    "    # You can also,\n",
    "\n",
    "things_in_space_2 = (Planet=\"Mars\", Star='Sun')\n",
    "\n",
    "    # Method without attributes / parametres"
   ]
  },
  {
   "cell_type": "code",
   "execution_count": null,
   "metadata": {},
   "outputs": [],
   "source": [
    "BUILT-IN-FUNCTIONS"
   ]
  },
  {
   "cell_type": "code",
   "execution_count": null,
   "metadata": {},
   "outputs": [],
   "source": [
    "# Built-in-functions\n",
    "\n",
    "1. BinaryIO\n",
    "2. Boolean\n",
    "3. Set(s)\n",
    "4. Dict(s)\n",
    "5. Sequences (range, lists, tuples)\n",
    "6. Numeric: complex, float, integers\n",
    "7. str (strings)"
   ]
  },
  {
   "cell_type": "code",
   "execution_count": null,
   "metadata": {},
   "outputs": [],
   "source": [
    "FIRST-CLASS-OBJECTS"
   ]
  },
  {
   "cell_type": "code",
   "execution_count": null,
   "metadata": {},
   "outputs": [],
   "source": [
    "# Functions (First-Class-Object)\n",
    "\n"
   ]
  },
  {
   "cell_type": "code",
   "execution_count": null,
   "metadata": {},
   "outputs": [],
   "source": [
    "CLASSES"
   ]
  },
  {
   "cell_type": "code",
   "execution_count": null,
   "metadata": {},
   "outputs": [],
   "source": [
    "# Classes\n",
    "\n",
    "class Car:\n",
    "    def __init__(self, electronic, gasoline):\n",
    "        self.electronic = electronic\n",
    "        self.gasoline = gasoline\n",
    "\n",
    "#   BaseClass and SubClass\n",
    "    class Types(Car):\n",
    "        super().__init__(electronic, gasoline)\n",
    "        def __init__(self, electronic, gasoline, Tesla, Mercedes, Audi):\n",
    "                self.Tesla = Tesla\n",
    "                self.Mercedes = Mercedes\n",
    "                self.Audi = Audi\n",
    "\n",
    "                # BaseClass and SubClass (another way to code):\n",
    "                class Types(Car):\n",
    "                    Car.__init__(electronic, gasoline)\n",
    "                    def __init__(self, electronic, gasoline, Tesla, Mercedes, Audi):\n",
    "                                self.Tesla = Tesla\n",
    "                                self.Mercedes = Mercedes\n",
    "                                self.Audi = Audi\n",
    "\n",
    "\n",
    "# Another example:\n",
    "\n",
    "class Student:\n",
    "    def __init__(self, name, major, gpa, is_on_probation):\n",
    "        self.name = name\n",
    "        self.major = major\n",
    "        self.gpa = gpa\n",
    "        self.is_on_probation = is_on_probation\n",
    "\n",
    "# Another example:\n",
    "\n",
    "class Mobile():\n",
    "    def __init__(self, brand, model, color):\n",
    "        self.brand = brand\n",
    "        self.model = model\n",
    "        self.color = color\n",
    "    \n",
    "    def upgrade(self, model):\n",
    "        self.model = model\n",
    "\n",
    "    def delivery_date(self, date):\n",
    "        self.date = date\n",
    "\n",
    "\n",
    "my_mobile = Mobile(\"iPhone\", \"X\", \"Black\")\n",
    "print(my_mobile.brand)\n",
    "print(my_mobile.model)\n",
    "print(my_mobile.color)\n",
    "\n",
    "mobile1 = Mobile('iPhone', '12', 'Red')\n",
    "mobile2 = Mobile('iPhone', '13', 'Red')\n",
    "\n",
    "print(\"mobile1 is of brand \" + mobile1.brand)\n",
    "print(\"mobile2 is of brand \" + mobile2.brand)\n",
    "\n",
    "\n",
    "# The above class practice was taken from HW10, video lesson 2. With Isaac."
   ]
  },
  {
   "cell_type": "code",
   "execution_count": null,
   "metadata": {},
   "outputs": [],
   "source": [
    "FILES AND JSON"
   ]
  },
  {
   "cell_type": "code",
   "execution_count": null,
   "metadata": {},
   "outputs": [],
   "source": [
    "# Files and JSON\n",
    "\n",
    "x = open(\"workfile\", \"w\")\n",
    "#(the above statement wants to open the file called \"workfile\" and the user to be able to write in it)\n",
    "\n",
    "Different modes in actioning your targetted file:\n",
    "\"r\" = read file \n",
    "\"w\" = only write in file \n",
    "\"a\" = append in file \n",
    "\"r+\" = read and write in file \n",
    "\"b\" = open file in binary mode \n",
    "\n",
    "\\n = represents the end in a file or in your statement/string \n",
    "\n",
    "f.read() = opens the selected file to be read - place the selected size of file you want to read within the () \n",
    "f.write() = to know how many characters exist in your file\n",
    "#the () is for the string to be put in"
   ]
  },
  {
   "cell_type": "code",
   "execution_count": null,
   "metadata": {},
   "outputs": [],
   "source": [
    "EXCEPTIONS"
   ]
  },
  {
   "cell_type": "code",
   "execution_count": null,
   "metadata": {},
   "outputs": [],
   "source": [
    "# Exceptions\n",
    "\n",
    "1/0\n",
    "\n",
    "try:\n",
    "    1/0\n",
    "except:\n",
    "    print(\"Wrong\")"
   ]
  },
  {
   "cell_type": "code",
   "execution_count": null,
   "metadata": {},
   "outputs": [],
   "source": [
    "# Polymorphism\n"
   ]
  },
  {
   "cell_type": "code",
   "execution_count": null,
   "metadata": {},
   "outputs": [],
   "source": [
    "# Decorators"
   ]
  },
  {
   "cell_type": "code",
   "execution_count": null,
   "metadata": {},
   "outputs": [],
   "source": [
    "LOOPS "
   ]
  },
  {
   "cell_type": "code",
   "execution_count": null,
   "metadata": {},
   "outputs": [],
   "source": [
    "# For loops and while loops"
   ]
  },
  {
   "cell_type": "code",
   "execution_count": null,
   "metadata": {},
   "outputs": [],
   "source": [
    "DECORATORS"
   ]
  },
  {
   "cell_type": "code",
   "execution_count": 5,
   "metadata": {},
   "outputs": [
    {
     "name": "stdout",
     "output_type": "stream",
     "text": [
      "[4, 20, 10, 13]\n",
      "[16, 400, 100, 169]\n"
     ]
    }
   ],
   "source": [
    "# https://towardsdatascience.com/how-to-use-decorators-in-python-by-example-b398328163b#:~:text=A%20decorator%20in%20Python%20is,the%20original%20function%20source%20code.\n",
    "\n",
    "# Regarding the below: the \"inner\" function is the local function within, the functions \"decorator_list\"\n",
    "# list of 2 elements as its argument, index 0 = a, index 1 = b.\n",
    "\n",
    "def decorator_list(fnc):\n",
    "    def inner(list_of_tuples):      \n",
    "        return [fnc(val[0], val[1]) for val in list_of_tuples]      \n",
    "    return inner\n",
    "\n",
    "# Regarding the above, The inner function loops through this list of 2 element tuples, \n",
    "# and for each tuple applies the original function, 'add_together'\n",
    "\n",
    "@decorator_list     # to apply a decorator, use the syntax \"@\" and use the function you want to decorate\n",
    "def add_together(a, b):\n",
    "    return a + b \n",
    "\n",
    "print(add_together([(1, 3), (3, 17), (5, 5), (6, 7)]))\n",
    "\n",
    "################################################################################################################################################\n",
    "# Decorators that can take arguments themselves\n",
    "\n",
    "def meta_decorator(power):\n",
    "    def decorator_list(fnc):\n",
    "        def inner(list_of_tuples):\n",
    "            return [fnc(val[0], val[1]) ** power for val in list_of_tuples]\n",
    "        return inner \n",
    "    return decorator_list\n",
    "\n",
    "@meta_decorator(2)\n",
    "def add_together(a, b):\n",
    "    return a + b \n",
    "\n",
    "\n",
    "print(add_together([(1, 3), (3, 17), (5, 5), (6, 7)]))\n",
    "\n"
   ]
  },
  {
   "cell_type": "code",
   "execution_count": null,
   "metadata": {},
   "outputs": [],
   "source": [
    "FIRST-CLASS-OBJECTS\n",
    "\n",
    "# In Python, functions are first-class objects. This means that functions can be passed around \n",
    "# and used as arguments, just like any other object (string, int, float, list, and so on). \n",
    "# Consider the following three functions:"
   ]
  },
  {
   "cell_type": "code",
   "execution_count": null,
   "metadata": {},
   "outputs": [],
   "source": [
    "def say_hello(name):\n",
    "    return f\"Hello {name}\"\n",
    "\n",
    "def be_awesome(name):\n",
    "    return f\"Yo {name}, together we are the awesomest!\"\n",
    "\n",
    "def greet_bob(greeter_func):\n",
    "    return greeter_func(\"Bob\")\n",
    "\n",
    "\n",
    "# Here, say_hello() and be_awesome() are regular functions that expect a name given as a string. \n",
    "# The greet_bob() function however, expects a function as its argument. \n",
    "# We can, for instance, pass it the say_hello() or the be_awesome() function:\n",
    "\n",
    "\n",
    "greet_bob(say_hello)\n",
    "'Hello Bob'\n",
    "\n",
    "greet_bob(be_awesome)\n",
    "'Yo Bob, together we are the awesomest!'\n",
    "\n",
    "# Note that greet_bob(say_hello) refers to two functions, but in different ways: greet_bob() and say_hello. \n",
    "# The say_hello function is named without parentheses. This means that only a reference to the function is passed. \n",
    "# The function is not executed. The greet_bob() function, on the other hand, \n",
    "# is written with parentheses, so it will be called as usual.\n",
    "\n"
   ]
  },
  {
   "cell_type": "code",
   "execution_count": null,
   "metadata": {},
   "outputs": [],
   "source": [
    "INNER FUNCTIONS"
   ]
  },
  {
   "cell_type": "code",
   "execution_count": null,
   "metadata": {},
   "outputs": [],
   "source": [
    "def parent():\n",
    "    print(\"Printing from the parent() function\")\n",
    "\n",
    "    def first_child():\n",
    "        print(\"Printing from the first_child() function\")\n",
    "\n",
    "    def second_child():\n",
    "        print(\"Printing from the second_child() function\")\n",
    "\n",
    "\n",
    "\n",
    "    second_child()\n",
    "    first_child()\n"
   ]
  }
 ],
 "metadata": {
  "interpreter": {
   "hash": "aee8b7b246df8f9039afb4144a1f6fd8d2ca17a180786b69acc140d282b71a49"
  },
  "kernelspec": {
   "display_name": "Python 3.10.1 64-bit",
   "language": "python",
   "name": "python3"
  },
  "language_info": {
   "codemirror_mode": {
    "name": "ipython",
    "version": 3
   },
   "file_extension": ".py",
   "mimetype": "text/x-python",
   "name": "python",
   "nbconvert_exporter": "python",
   "pygments_lexer": "ipython3",
   "version": "3.10.1"
  },
  "orig_nbformat": 4
 },
 "nbformat": 4,
 "nbformat_minor": 2
}
